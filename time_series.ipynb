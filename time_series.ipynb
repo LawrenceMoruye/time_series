{
 "cells": [
  {
   "cell_type": "markdown",
   "metadata": {},
   "source": [
    "training an RNN to do time seriesprediction.\n",
    "Given an input data it is able to generate a\n",
    "prediction for the next time step"
   ]
  },
  {
   "cell_type": "raw",
   "metadata": {},
   "source": [
    "              steps followed\n",
    "1.create our data\n",
    "2.Define our RNN in pytorch\n",
    "3.Train our Network to see how it performs"
   ]
  },
  {
   "cell_type": "markdown",
   "metadata": {},
   "source": [
    "# Import resources and Create our data"
   ]
  },
  {
   "cell_type": "code",
   "execution_count": 1,
   "metadata": {},
   "outputs": [],
   "source": [
    "import torch\n",
    "from torch import nn\n",
    "import numpy as np\n",
    "import matplotlib.pyplot as plt\n",
    "%matplotlib inline"
   ]
  },
  {
   "cell_type": "code",
   "execution_count": 2,
   "metadata": {},
   "outputs": [
    {
     "data": {
      "image/png": "[encoded data removed]",
      "text/plain": [
       "<Figure size 576x360 with 1 Axes>"
      ]
     },
     "metadata": {
      "needs_background": "light"
     },
     "output_type": "display_data"
    }
   ],
   "source": [
    "plt.figure(figsize=(8,5))\n",
    "#no of time steps/data points are in 1 batch of data\n",
    "seq_length=20\n",
    "\n",
    "#generate evenly spaced time points\n",
    "time_steps=np.linspace(0,np.pi,seq_length+1)\n",
    "data=np.sin(time_steps)\n",
    "data.resize((seq_length+1,1))#adds an input size dimension\n",
    "x=data[:-1]#all but the last\n",
    "y=data[1:]#all bt the first\n",
    "\n",
    "#displaying the data\n",
    "plt.plot(time_steps[1:],x,'r.',label='input,x')#x\n",
    "plt.plot(time_steps[1:],y,'b.',label='target,y')#y\n",
    "plt.legend(loc=\"best\")\n",
    "plt.show()"
   ]
  },
  {
   "cell_type": "markdown",
   "metadata": {},
   "source": [
    "# Defining an RNN"
   ]
  },
  {
   "cell_type": "code",
   "execution_count": 3,
   "metadata": {},
   "outputs": [],
   "source": [
    "# we'll use nn.RNN to create our rnn layer then add a fully connected layer \n",
    "#to get the output size we want\n",
    "# an RNN takes in a number of parameters\n",
    "#1.input_size;the size of the input\n",
    "#2.hidden_dim;the number of features in the RNN output and the hiddden state\n",
    "#3.n_layers;the number of layers that make up the RNN,\n",
    "#greater than 1 means you are creating a stacked RNN\n",
    "#4 whether or not,input/output of RNN would have batch size has first dimension\n",
    "#(batch_size,seq_legth,hidden_dim)\n"
   ]
  },
  {
   "cell_type": "code",
   "execution_count": 4,
   "metadata": {},
   "outputs": [],
   "source": [
    "class RNN(nn.Module):\n",
    "    def __init__(self,input_size,output_size,hidden_dim,n_layers):\n",
    "        super(RNN,self).__init__()\n",
    "        self.hidden_dim=hidden_dim\n",
    "        \n",
    "        #defining an RNN with specified parameters\n",
    "        #batch_first means the first dim of input and output would be the batch_size\n",
    "        self.rnn=nn.RNN(input_size,hidden_dim,n_layers,batch_first=True)\n",
    "        \n",
    "        #last fully connected layer\n",
    "        self.fc=nn.Linear(hidden_dim,output_size)\n",
    "        \n",
    "    def forward(self,x,hidden):\n",
    "        batct_size=x.size(0)\n",
    "        \n",
    "        #get rnn outputs\n",
    "        r_out,hidden=self.rnn(x,hidden)\n",
    "        #shape the output to be (batch_size*seq_length,hiddedn_dim)\n",
    "        r_out=r_out.view(-1,self.hidden_dim)\n",
    "        \n",
    "        #final output\n",
    "        output=self.fc(r_out)\n",
    "        \n",
    "        return output,hidden\n",
    "        \n",
    "        "
   ]
  },
  {
   "cell_type": "markdown",
   "metadata": {},
   "source": [
    "# check the input and output dimensions"
   ]
  },
  {
   "cell_type": "code",
   "execution_count": 5,
   "metadata": {},
   "outputs": [
    {
     "name": "stdout",
     "output_type": "stream",
     "text": [
      "INput size torch.Size([1, 20, 1])\n",
      "output_size torch.Size([20, 1])\n",
      "the hidden size state torch.Size([2, 1, 10])\n"
     ]
    }
   ],
   "source": [
    "\n",
    "#testing the dimensions as expected\n",
    "test_rnn=RNN(input_size=1,output_size=1,hidden_dim=10,n_layers=2)\n",
    "#we generate evenly spaced datga points\n",
    "time_steps=np.linspace(0,np.pi,seq_length)\n",
    "data=np.sin(time_steps)\n",
    "data.resize((seq_length,1))\n",
    "\n",
    "test_input=torch.Tensor(data).unsqueeze(0)#gives the batch size of the firstg dimension\n",
    "print(\"INput size\",test_input.size())\n",
    "\n",
    "#test the rnn sizes\n",
    "test_out,test_h=test_rnn(test_input,None)\n",
    "print(\"output_size\",test_out.size())\n",
    "print(\"the hidden size state\",test_h.size())"
   ]
  },
  {
   "cell_type": "markdown",
   "metadata": {},
   "source": [
    "# TRAIN THE RNN "
   ]
  },
  {
   "cell_type": "code",
   "execution_count": 6,
   "metadata": {},
   "outputs": [
    {
     "name": "stdout",
     "output_type": "stream",
     "text": [
      "RNN(\n",
      "  (rnn): RNN(1, 32, batch_first=True)\n",
      "  (fc): Linear(in_features=32, out_features=1, bias=True)\n",
      ")\n"
     ]
    }
   ],
   "source": [
    "#specify a series of hyparameters\n",
    "input_size=1\n",
    "output_size=1\n",
    "hidden_dim=32\n",
    "n_layers=1\n",
    "#instantiate an rnn\n",
    "rnn=RNN(input_size,output_size,hidden_dim,n_layers)\n",
    "print(rnn)"
   ]
  },
  {
   "cell_type": "markdown",
   "metadata": {},
   "source": [
    "# LOSS AND OPTIMIZATION"
   ]
  },
  {
   "cell_type": "code",
   "execution_count": 7,
   "metadata": {},
   "outputs": [],
   "source": [
    "#this is aregression problem\n",
    "#we gonna use MSE and Adam optimizer,learning rate of 0.01\n",
    "criterion=nn.MSELoss()\n",
    "optimizer=torch.optim.Adam(rnn.parameters(),lr=0.01)\n",
    "\n"
   ]
  },
  {
   "cell_type": "markdown",
   "metadata": {},
   "source": [
    "# DEFINING THE TRAINING FUNCTION"
   ]
  },
  {
   "cell_type": "code",
   "execution_count": 8,
   "metadata": {},
   "outputs": [],
   "source": [
    "#function takes in rnn,number of training steps and returns atrained rnn\n",
    "#also responsible for displaying the losses and predictions so often\n",
    "\n",
    "##hidden state##\n",
    "\n",
    "#note#\n",
    "#1 before looping over a batch of training data, the hidden state wis initialized\n",
    "#2.after a new hidden state is generated by the rnn,we use the latest hidden state\n",
    "#and acts as an input for the following steps\n",
    "def train(rnn,n_steps,print_every):\n",
    "    \n",
    "    #initialize hidden state\n",
    "    hidden=None\n",
    "    \n",
    "    for batch_i,step in enumerate (range(n_steps)):\n",
    "        #defining the training data\n",
    "        time_steps=np.linspace(step*np.pi,(step+1)*np.pi,seq_length+1)\n",
    "        data=np.sin(time_steps)\n",
    "        data.resize((seq_length+1,1))#input size =1\n",
    "        \n",
    "        x=data[:-1]\n",
    "        y=data[1:]\n",
    "        \n",
    "        #convert datga in to tensors\n",
    "        x_tensor=torch.Tensor(x).unsqueeze(0)#unsqueeze gives a 1,batch dimension\n",
    "        y_tensor=torch.Tensor(y)\n",
    "        \n",
    "        #outputs from rnn\n",
    "        prediction,hidden=rnn(x_tensor,hidden)\n",
    "        #make a new variable for hidden and detach the hidden state from its histor\n",
    "        #now we dont backpropagate through thr entire history\n",
    "        hidden=hidden.data\n",
    "        \n",
    "        #calculate the loss\n",
    "        loss=criterion(prediction,y_tensor)\n",
    "        #zero_gradientgs\n",
    "        optimizer.zero_grad()\n",
    "        #perform back_propagation and update the weights\n",
    "        loss.backward()\n",
    "        optimizer.step()\n",
    "        \n",
    "        #displaying the loss and the predictions\n",
    "        if batch_i%print_every==0:\n",
    "            print(\"Loss\",loss.item())\n",
    "            plt.plot(time_steps[1:],x,\"r.\")#for input\n",
    "            plt.plot(time_steps[1:],prediction.data.numpy().flatten(),\"b.\")#for predictions\n",
    "            plt.show()\n",
    "            \n",
    "    return rnn\n",
    "        "
   ]
  },
  {
   "cell_type": "code",
   "execution_count": 9,
   "metadata": {},
   "outputs": [
    {
     "name": "stdout",
     "output_type": "stream",
     "text": [
      "Loss 0.2988646328449249\n"
     ]
    },
    {
     "data": {
      "image/png": "[encoded data removed]",
      "text/plain": [
       "<Figure size 432x288 with 1 Axes>"
      ]
     },
     "metadata": {
      "needs_background": "light"
     },
     "output_type": "display_data"
    },
    {
     "name": "stdout",
     "output_type": "stream",
     "text": [
      "Loss 0.06982742995023727\n"
     ]
    },
    {
     "data": {
      "image/png": "[encoded data removed]",
      "text/plain": [
       "<Figure size 432x288 with 1 Axes>"
      ]
     },
     "metadata": {
      "needs_background": "light"
     },
     "output_type": "display_data"
    },
    {
     "name": "stdout",
     "output_type": "stream",
     "text": [
      "Loss 0.0018576530274003744\n"
     ]
    },
    {
     "data": {
      "image/png": "[encoded data removed]",
      "text/plain": [
       "<Figure size 432x288 with 1 Axes>"
      ]
     },
     "metadata": {
      "needs_background": "light"
     },
     "output_type": "display_data"
    },
    {
     "name": "stdout",
     "output_type": "stream",
     "text": [
      "Loss 0.00045001061516813934\n"
     ]
    },
    {
     "data": {
      "image/png": "[encoded data removed]",
      "text/plain": [
       "<Figure size 432x288 with 1 Axes>"
      ]
     },
     "metadata": {
      "needs_background": "light"
     },
     "output_type": "display_data"
    },
    {
     "name": "stdout",
     "output_type": "stream",
     "text": [
      "Loss 0.0001995104248635471\n"
     ]
    },
    {
     "data": {
      "image/png": "[encoded data removed]",
      "text/plain": [
       "<Figure size 432x288 with 1 Axes>"
      ]
     },
     "metadata": {
      "needs_background": "light"
     },
     "output_type": "display_data"
    },
    {
     "name": "stdout",
     "output_type": "stream",
     "text": [
      "Loss 0.00022766977781429887\n"
     ]
    },
    {
     "data": {
      "image/png": "[encoded data removed]",
      "text/plain": [
       "<Figure size 432x288 with 1 Axes>"
      ]
     },
     "metadata": {
      "needs_background": "light"
     },
     "output_type": "display_data"
    },
    {
     "name": "stdout",
     "output_type": "stream",
     "text": [
      "Loss 9.129598765866831e-05\n"
     ]
    },
    {
     "data": {
      "image/png": "[encoded data removed]",
      "text/plain": [
       "<Figure size 432x288 with 1 Axes>"
      ]
     },
     "metadata": {
      "needs_background": "light"
     },
     "output_type": "display_data"
    }
   ],
   "source": [
    "#now we train the rnn and monitor the results\n",
    "n_steps=105\n",
    "print_every=15\n",
    "trained_rnn=train(rnn,n_steps,print_every)"
   ]
  },
  {
   "cell_type": "code",
   "execution_count": 10,
   "metadata": {},
   "outputs": [],
   "source": [
    "#Time series can be applied in\n",
    "#1.weather forcasting\n",
    "#2.prediction stoke market prices"
   ]
  },
  {
   "cell_type": "code",
   "execution_count": 11,
   "metadata": {},
   "outputs": [],
   "source": [
    "x=[1,2,3,4,5,7,8,9]"
   ]
  },
  {
   "cell_type": "code",
   "execution_count": 20,
   "metadata": {},
   "outputs": [],
   "source": [
    "m=[n for n in range(0,100) if n%2==0]\n"
   ]
  },
  {
   "cell_type": "code",
   "execution_count": 21,
   "metadata": {},
   "outputs": [
    {
     "name": "stdout",
     "output_type": "stream",
     "text": [
      "[0, 2, 4, 6, 8, 10, 12, 14, 16, 18, 20, 22, 24, 26, 28, 30, 32, 34, 36, 38, 40, 42, 44, 46, 48, 50, 52, 54, 56, 58, 60, 62, 64, 66, 68, 70, 72, 74, 76, 78, 80, 82, 84, 86, 88, 90, 92, 94, 96, 98]\n"
     ]
    }
   ],
   "source": [
    "print(m)"
   ]
  },
  {
   "cell_type": "code",
   "execution_count": 22,
   "metadata": {},
   "outputs": [],
   "source": [
    "names=[\"Lawrence\",\"Moruye\",\"Denno\",\"Felix\"]\n",
    "units=[\"Calculus\",\"ODE\",\"c++\",\"Mathematics\"]"
   ]
  },
  {
   "cell_type": "code",
   "execution_count": 23,
   "metadata": {},
   "outputs": [
    {
     "name": "stdout",
     "output_type": "stream",
     "text": [
      "{'Lawrence': 'Calculus', 'Moruye': 'ODE', 'Denno': 'c++', 'Felix': 'Mathematics'}\n"
     ]
    }
   ],
   "source": [
    "my_dict={}\n",
    "for name,unit in zip(names,units):\n",
    "    my_dict[name]=unit\n",
    "print(my_dict)"
   ]
  },
  {
   "cell_type": "code",
   "execution_count": 25,
   "metadata": {},
   "outputs": [],
   "source": [
    "my_dik={name:unit for name,unit in zip(names,units)}"
   ]
  },
  {
   "cell_type": "code",
   "execution_count": 26,
   "metadata": {},
   "outputs": [
    {
     "name": "stdout",
     "output_type": "stream",
     "text": [
      "{'Lawrence': 'Calculus', 'Moruye': 'ODE', 'Denno': 'c++', 'Felix': 'Mathematics'}\n"
     ]
    }
   ],
   "source": [
    "print(my_dik)"
   ]
  },
  {
   "cell_type": "code",
   "execution_count": null,
   "metadata": {},
   "outputs": [],
   "source": []
  }
 ],
 "metadata": {
  "kernelspec": {
   "display_name": "Python 3",
   "language": "python",
   "name": "python3"
  },
  "language_info": {
   "codemirror_mode": {
    "name": "ipython",
    "version": 3
   },
   "file_extension": ".py",
   "mimetype": "text/x-python",
   "name": "python",
   "nbconvert_exporter": "python",
   "pygments_lexer": "ipython3",
   "version": "3.6.7"
  }
 },
 "nbformat": 4,
 "nbformat_minor": 2
}
